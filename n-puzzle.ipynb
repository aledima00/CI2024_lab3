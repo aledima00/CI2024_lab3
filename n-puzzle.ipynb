{
 "cells": [
  {
   "cell_type": "code",
   "execution_count": 1,
   "metadata": {},
   "outputs": [],
   "source": [
    "from tqdm.auto import tqdm\n",
    "import numpy as np\n",
    "from icecream import ic"
   ]
  },
  {
   "cell_type": "code",
   "execution_count": 2,
   "metadata": {},
   "outputs": [],
   "source": [
    "PUZZLE_DIM = 4\n",
    "#ENCODING = \"HOLE\" # the hole is the one that moves\n",
    "#ACTIONS_ENCODING = [\"U\", \"D\", \"L\", \"R\"] # available movements\n",
    "RANDOMIZE_STEPS = 100_000\n",
    "HEURISTIC_WEIGHT = 1.5\n",
    "HEURISTIC_WEIGHT_MULT=1.05\n",
    "HEURISTIC_WEIGHT_MSTEPS = 10_000"
   ]
  },
  {
   "cell_type": "code",
   "execution_count": 3,
   "metadata": {},
   "outputs": [],
   "source": [
    "rng = np.random.Generator(np.random.PCG64([PUZZLE_DIM, RANDOMIZE_STEPS]))"
   ]
  },
  {
   "cell_type": "markdown",
   "metadata": {},
   "source": [
    "As priority value, i will use heuristic expected cost function `h`.\n",
    "\n",
    "In this case, i used **manhattan distance** as `h`, proven to be the best choice for path searching problems in grid-like environments where movement is restricted to horizontal and vertical directions\n",
    "\n",
    "\n",
    "*sources:<br/>https://theory.stanford.edu/~amitp/GameProgramming/Heuristics.html, <br/> https://pages.cs.wisc.edu/~dyer/cs540/notes/search2.html*"
   ]
  },
  {
   "cell_type": "code",
   "execution_count": 4,
   "metadata": {},
   "outputs": [],
   "source": [
    "\n",
    "class State:\n",
    "    def __init__(self, state: np.ndarray, history: tuple = None):\n",
    "        self.state = state\n",
    "        self.history = history if history is not None else tuple()\n",
    "\n",
    "    def available_actions(self) -> list[str]:\n",
    "        x, y = [int(_[0]) for _ in np.where(self.state == 0)]\n",
    "        actions = list()\n",
    "        if x > 0:\n",
    "            actions.append(\"U\") \n",
    "        if x < PUZZLE_DIM - 1:\n",
    "            actions.append(\"D\")\n",
    "        if y > 0:\n",
    "            actions.append(\"L\")\n",
    "        if y < PUZZLE_DIM - 1:\n",
    "            actions.append(\"R\")\n",
    "        return actions\n",
    "    \n",
    "    def swap(self, pos1, pos2):\n",
    "        self.state[pos1], self.state[pos2] = self.state[pos2], self.state[pos1]\n",
    "\n",
    "    def copy(self):\n",
    "        return State(self.state.copy(), tuple(self.history))\n",
    "\n",
    "    def do_action(self, action: str,*,appending=True) -> np.ndarray:\n",
    "        new_state = self.copy()\n",
    "        x, y = [int(_[0]) for _ in np.where(self.state == 0)]\n",
    "        if action == \"U\":\n",
    "            new_state.swap((x, y), (x-1, y))\n",
    "        elif action == \"D\":\n",
    "            new_state.swap((x, y), (x+1, y))\n",
    "        elif action == \"L\":\n",
    "            new_state.swap((x, y), (x, y-1))\n",
    "        elif action == \"R\":\n",
    "            new_state.swap((x, y), (x, y+1))\n",
    "        else:\n",
    "            raise ValueError(\"Invalid action\")\n",
    "        if appending:\n",
    "            new_state.history = new_state.history + (action,)  # Append as a new tuple\n",
    "        return new_state\n",
    "    \n",
    "    def cost(self):\n",
    "        return len(self.history)\n",
    "    \n",
    "    @staticmethod\n",
    "    def getSolution():\n",
    "        return State(np.array([i for i in range(1, PUZZLE_DIM**2)]+[0]).reshape(PUZZLE_DIM, PUZZLE_DIM))\n",
    "\n",
    "    @staticmethod\n",
    "    def getRandom():\n",
    "        return State(rng.permutation(State.getSolution().state))\n",
    "\n",
    "    def randomize(self, steps: int):\n",
    "        for _ in tqdm(range(steps), desc=\"Randomizing\"):\n",
    "            action = rng.choice(self.available_actions())\n",
    "            self.state = self.do_action(action,appending=False).state\n",
    "\n",
    "    def __str__(self):\n",
    "        return str(self.state)\n",
    "    \n",
    "    def __repr__(self):\n",
    "        return str(self.state)\n",
    "    \n",
    "    def __eq__(self, other):\n",
    "        return np.array_equal(self.state, other.state)\n",
    "    \n",
    "    def __hash__(self):\n",
    "        return hash(self.state.tobytes())\n",
    "    \n",
    "    def manhattan_distance(self):\n",
    "        distance = 0\n",
    "        for i in range(PUZZLE_DIM):\n",
    "            for j in range(PUZZLE_DIM):\n",
    "                if self.state[i, j] == 0:\n",
    "                    continue # skip the hole\n",
    "                d, m = divmod(self.state[i, j] - 1, PUZZLE_DIM)\n",
    "                distance += abs(d - i) + abs(m - j)\n",
    "        return distance\n",
    "    \n",
    "    def euclidean_distance(self):\n",
    "        distance = 0\n",
    "        for i in range(PUZZLE_DIM):\n",
    "            for j in range(PUZZLE_DIM):\n",
    "                if self.state[i, j] == 0:\n",
    "                    continue  # skip the hole\n",
    "                d, m = divmod(self.state[i, j] - 1, PUZZLE_DIM)\n",
    "                distance += np.sqrt((d - i) ** 2 + (m - j) ** 2)\n",
    "        return distance\n",
    "    \n",
    "    def tot_cost(self):\n",
    "        return self.cost() + HEURISTIC_WEIGHT*self.manhattan_distance()\n",
    "    \n",
    "    def __lt__(self, other):\n",
    "        return self.manhattan_distance() < other.manhattan_distance()\n",
    "    \n",
    "    def is_solved(self):\n",
    "        return np.array_equal(self.state, State.getSolution().state)\n",
    "    "
   ]
  },
  {
   "cell_type": "code",
   "execution_count": 5,
   "metadata": {},
   "outputs": [
    {
     "data": {
      "application/vnd.jupyter.widget-view+json": {
       "model_id": "81360592480a40799e78d3a022f179f6",
       "version_major": 2,
       "version_minor": 0
      },
      "text/plain": [
       "Randomizing:   0%|          | 0/100000 [00:00<?, ?it/s]"
      ]
     },
     "metadata": {},
     "output_type": "display_data"
    },
    {
     "name": "stderr",
     "output_type": "stream",
     "text": [
      "ic| state: [[ 4 13 11  3]\n",
      "            [ 5  7  8 14]\n",
      "            [ 2  1  9  6]\n",
      "            [12  0 10 15]]\n",
      "ic| state.manhattan_distance(): np.int64(34)\n"
     ]
    },
    {
     "data": {
      "text/plain": [
       "np.int64(34)"
      ]
     },
     "execution_count": 5,
     "metadata": {},
     "output_type": "execute_result"
    }
   ],
   "source": [
    "\n",
    "state = State.getSolution()\n",
    "state.randomize(RANDOMIZE_STEPS)\n",
    "ic(state)\n",
    "ic(state.manhattan_distance())"
   ]
  },
  {
   "cell_type": "markdown",
   "metadata": {},
   "source": [
    "## A* Algorithm"
   ]
  },
  {
   "cell_type": "markdown",
   "metadata": {},
   "source": [
    "First let's define a priority queue using `heapq` module:"
   ]
  },
  {
   "cell_type": "code",
   "execution_count": 6,
   "metadata": {},
   "outputs": [],
   "source": [
    "import heapq\n",
    "\n",
    "class PriorityQueue:\n",
    "    def __init__(self):\n",
    "        self.elements = []\n",
    "    \n",
    "    def empty(self):\n",
    "        return len(self.elements) == 0\n",
    "    \n",
    "    def append(self, item, priority):\n",
    "        heapq.heappush(self.elements, (priority, item))\n",
    "    \n",
    "    def popleft(self):\n",
    "        return heapq.heappop(self.elements)[1]\n",
    "    \n",
    "    def __bool__(self):\n",
    "        \"\"\" Override the boolean operator to allow direct check with while and if statements \"\"\"\n",
    "        return not self.empty()\n",
    "    \n",
    "    def __len__(self):\n",
    "        return len(self.elements)\n",
    "    \n",
    "    def __str__(self):\n",
    "        return str(self.elements)\n",
    "    \n",
    "    def __repr__(self):\n",
    "        return str(self.elements)\n",
    "    \n",
    "class StatePriorityQueue(PriorityQueue):\n",
    "    def append(self, item: State):\n",
    "        super().append(item, item.tot_cost())"
   ]
  },
  {
   "cell_type": "code",
   "execution_count": 7,
   "metadata": {},
   "outputs": [
    {
     "name": "stderr",
     "output_type": "stream",
     "text": [
      "ic| frontier.elements: [(np.float64(51.0),\n",
      "                         [[ 4 13 11  3]\n",
      "                        [ 5  7  8 14]\n",
      "                        [ 2  1  9  6]\n",
      "                        [12  0 10 15]])]\n"
     ]
    }
   ],
   "source": [
    "frontier = StatePriorityQueue()\n",
    "frontier.append(state)\n",
    "visited = set()\n",
    "visited.add(state)\n",
    "ic(frontier.elements);"
   ]
  },
  {
   "cell_type": "code",
   "execution_count": 8,
   "metadata": {},
   "outputs": [
    {
     "name": "stdout",
     "output_type": "stream",
     "text": [
      "current_state (@cycle-0):\n",
      "[[ 4 13 11  3]\n",
      " [ 5  7  8 14]\n",
      " [ 2  1  9  6]\n",
      " [12  0 10 15]]\n",
      "current memory usage:\n",
      "frontier_size: 3\n",
      "visited_size: 1\n",
      "incrementing heuristic weight from 1.5 to 1.5750000000000002\n",
      "current_state (@cycle-10000):\n",
      "[[ 5  2  4  3]\n",
      " [ 9  6 11  7]\n",
      " [ 1 10 15  8]\n",
      " [13 12 14  0]]\n",
      "current memory usage:\n",
      "frontier_size: 10004\n",
      "visited_size: 9906\n",
      "incrementing heuristic weight from 1.5750000000000002 to 1.6537500000000003\n",
      "current_state (@cycle-20000):\n",
      "[[ 5  4 11  3]\n",
      " [ 1  7  0  8]\n",
      " [10  2 12 14]\n",
      " [13  9  6 15]]\n",
      "current memory usage:\n",
      "frontier_size: 20469\n",
      "visited_size: 19614\n",
      "incrementing heuristic weight from 1.6537500000000003 to 1.7364375000000003\n",
      "current_state (@cycle-30000):\n",
      "[[ 5  2  4  3]\n",
      " [ 0  6  1  7]\n",
      " [ 9 10 11 12]\n",
      " [13 14 15  8]]\n",
      "current memory usage:\n",
      "frontier_size: 30872\n",
      "visited_size: 29309\n",
      "incrementing heuristic weight from 1.7364375000000003 to 1.8232593750000003\n",
      "current_state (@cycle-40000):\n",
      "[[ 1  2  4  3]\n",
      " [13  6 11  7]\n",
      " [ 5 10  9 12]\n",
      " [14  0 15  8]]\n",
      "current memory usage:\n",
      "frontier_size: 40566\n",
      "visited_size: 38930\n",
      "incrementing heuristic weight from 1.8232593750000003 to 1.9144223437500005\n",
      "current_state (@cycle-50000):\n",
      "[[ 5  4 11  3]\n",
      " [ 1  0  6  8]\n",
      " [ 7  2 10 12]\n",
      " [ 9 13 15 14]]\n",
      "current memory usage:\n",
      "frontier_size: 51386\n",
      "visited_size: 48498\n",
      "incrementing heuristic weight from 1.9144223437500005 to 2.010143460937501\n",
      "current_state (@cycle-60000):\n",
      "[[ 5  2  4  3]\n",
      " [ 1  7  6  8]\n",
      " [12 13 11 14]\n",
      " [10  0  9 15]]\n",
      "current memory usage:\n",
      "frontier_size: 62024\n",
      "visited_size: 58035\n",
      "incrementing heuristic weight from 2.010143460937501 to 2.110650633984376\n",
      "current_state (@cycle-70000):\n",
      "[[ 5  2  4  0]\n",
      " [ 1  6 11  3]\n",
      " [12  9  8  7]\n",
      " [10 13 15 14]]\n",
      "current memory usage:\n",
      "frontier_size: 72572\n",
      "visited_size: 67525\n",
      "incrementing heuristic weight from 2.110650633984376 to 2.216183165683595\n",
      "current_state (@cycle-80000):\n",
      "[[ 5  4 11  3]\n",
      " [13  9  7  8]\n",
      " [ 6 10 14  0]\n",
      " [ 1  2 12 15]]\n",
      "current memory usage:\n",
      "frontier_size: 83153\n",
      "visited_size: 77013\n",
      "incrementing heuristic weight from 2.216183165683595 to 2.3269923239677746\n",
      "Solved!\n"
     ]
    }
   ],
   "source": [
    "cycle=0\n",
    "while frontier:\n",
    "    current_state = frontier.popleft()\n",
    "    visited.add(current_state) # avoid using np.array as keys in a set\n",
    "    if current_state.is_solved():\n",
    "        print(\"Solved!\")\n",
    "        break\n",
    "    actions = current_state.available_actions()\n",
    "    for action in actions:\n",
    "        new_state = current_state.do_action(action)\n",
    "        if new_state not in visited:\n",
    "            frontier.append(new_state)\n",
    "    if cycle % HEURISTIC_WEIGHT_MSTEPS == 0:\n",
    "        print(f\"current_state (@cycle-{cycle}):\\n{current_state}\")\n",
    "        print(f\"current memory usage:\\nfrontier_size: {len(frontier)}\\nvisited_size: {len(visited)}\")\n",
    "        old_heuristic_weight = HEURISTIC_WEIGHT\n",
    "        HEURISTIC_WEIGHT *= HEURISTIC_WEIGHT_MULT\n",
    "        print(f\"incrementing heuristic weight from {old_heuristic_weight} to {HEURISTIC_WEIGHT}\")\n",
    "    cycle += 1"
   ]
  },
  {
   "cell_type": "code",
   "execution_count": 9,
   "metadata": {},
   "outputs": [
    {
     "name": "stdout",
     "output_type": "stream",
     "text": [
      "89441\n"
     ]
    },
    {
     "data": {
      "text/plain": [
       "85977"
      ]
     },
     "execution_count": 9,
     "metadata": {},
     "output_type": "execute_result"
    }
   ],
   "source": [
    "print(cycle)\n",
    "len(visited)"
   ]
  },
  {
   "cell_type": "code",
   "execution_count": 10,
   "metadata": {},
   "outputs": [
    {
     "name": "stdout",
     "output_type": "stream",
     "text": [
      "[[ 1  2  3  4]\n",
      " [ 5  6  7  8]\n",
      " [ 9 10 11 12]\n",
      " [13 14 15  0]]\n",
      "in 58 steps:\n",
      "('U', 'R', 'R', 'U', 'L', 'L', 'U', 'L', 'D', 'D', 'R', 'U', 'L', 'D', 'R', 'D', 'L', 'U', 'U', 'R', 'D', 'R', 'R', 'U', 'L', 'U', 'L', 'D', 'D', 'D', 'R', 'U', 'L', 'U', 'L', 'U', 'R', 'R', 'R', 'D', 'D', 'L', 'U', 'U', 'L', 'D', 'D', 'D', 'R', 'R', 'U', 'U', 'U', 'L', 'D', 'R', 'D', 'D')\n"
     ]
    }
   ],
   "source": [
    "print(current_state)\n",
    "print(f\"in {current_state.cost()} steps:\")\n",
    "print(current_state.history)"
   ]
  }
 ],
 "metadata": {
  "kernelspec": {
   "display_name": ".venv",
   "language": "python",
   "name": "python3"
  },
  "language_info": {
   "codemirror_mode": {
    "name": "ipython",
    "version": 3
   },
   "file_extension": ".py",
   "mimetype": "text/x-python",
   "name": "python",
   "nbconvert_exporter": "python",
   "pygments_lexer": "ipython3",
   "version": "3.12.4"
  }
 },
 "nbformat": 4,
 "nbformat_minor": 2
}
