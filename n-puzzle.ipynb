{
 "cells": [
  {
   "cell_type": "code",
   "execution_count": 1,
   "metadata": {},
   "outputs": [],
   "source": [
    "from tqdm.auto import tqdm\n",
    "import numpy as np\n",
    "from icecream import ic"
   ]
  },
  {
   "cell_type": "code",
   "execution_count": null,
   "metadata": {},
   "outputs": [],
   "source": [
    "PUZZLE_DIM = 4\n",
    "ENCODING = \"HOLE\" # the hole is the one that moves\n",
    "ACTIONS_ENCODING = [\"U\", \"D\", \"L\", \"R\"] # available movements\n",
    "RANDOMIZE_STEPS = 100_000"
   ]
  },
  {
   "cell_type": "code",
   "execution_count": null,
   "metadata": {},
   "outputs": [],
   "source": []
  },
  {
   "cell_type": "code",
   "execution_count": null,
   "metadata": {},
   "outputs": [
    {
     "data": {
      "text/plain": [
       "array([[14,  2, 11,  1],\n",
       "       [ 3,  8, 10,  9],\n",
       "       [ 0,  7,  5,  4],\n",
       "       [13,  6, 12, 15]])"
      ]
     },
     "execution_count": 4,
     "metadata": {},
     "output_type": "execute_result"
    }
   ],
   "source": [
    "#state = rng.permutation(np.array([i for i in range(1, PUZZLE_DIM**2)]+[0])).reshape(PUZZLE_DIM, PUZZLE_DIM)\n",
    "#state"
   ]
  },
  {
   "cell_type": "code",
   "execution_count": 5,
   "metadata": {},
   "outputs": [],
   "source": [
    "def available_actions(state: np.ndarray) -> list[str]:\n",
    "    x, y = [int(_[0]) for _ in np.where(state == 0)]\n",
    "    actions = list()\n",
    "    if x > 0:\n",
    "        actions.append(\"U\") \n",
    "    if x < PUZZLE_DIM - 1:\n",
    "        actions.append(\"D\")\n",
    "    if y > 0:\n",
    "        actions.append(\"L\")\n",
    "    if y < PUZZLE_DIM - 1:\n",
    "        actions.append(\"R\")\n",
    "    return actions\n",
    "\n",
    "def swap(state, pos1, pos2):\n",
    "    state[pos1], state[pos2] = state[pos2], state[pos1]\n",
    "\n",
    "def hprintmat(mtx: np.ndarray):\n",
    "    #parg = \"\\033[1;31m\"+msg+\"\\033[0m\"\n",
    "    print(str(mtx))\n",
    "\n",
    "def do_action(state: np.ndarray, action: str,*,print=False) -> np.ndarray:\n",
    "    new_state = state.copy()\n",
    "    x, y = [int(_[0]) for _ in np.where(state == 0)]\n",
    "    if action == \"U\":\n",
    "        swap(new_state, (x, y), (x-1, y))\n",
    "    elif action == \"D\":\n",
    "        swap(new_state, (x, y), (x+1, y))\n",
    "    elif action == \"L\":\n",
    "        swap(new_state, (x, y), (x, y-1))\n",
    "    elif action == \"R\":\n",
    "        swap(new_state, (x, y), (x, y+1))\n",
    "    else:\n",
    "        raise ValueError(\"Invalid action\")\n",
    "    return new_state"
   ]
  },
  {
   "cell_type": "code",
   "execution_count": null,
   "metadata": {},
   "outputs": [
    {
     "data": {
      "application/vnd.jupyter.widget-view+json": {
       "model_id": "d85998803daa478b9e9679711c6e40f6",
       "version_major": 2,
       "version_minor": 0
      },
      "text/plain": [
       "Randomizing:   0%|          | 0/100000 [00:00<?, ?it/s]"
      ]
     },
     "metadata": {},
     "output_type": "display_data"
    },
    {
     "data": {
      "text/plain": [
       "array([[ 0, 14,  9,  6],\n",
       "       [ 1, 11, 10,  2],\n",
       "       [ 4,  8,  7, 15],\n",
       "       [ 5, 12,  3, 13]])"
      ]
     },
     "execution_count": 6,
     "metadata": {},
     "output_type": "execute_result"
    }
   ],
   "source": [
    "state\n",
    "rng = np.random.Generator(np.random.PCG64([PUZZLE_DIM, RANDOMIZE_STEPS]))\n",
    "state = np.array([i for i in range(1, PUZZLE_DIM**2)] + [0]).reshape((PUZZLE_DIM, PUZZLE_DIM))\n",
    "for r in tqdm(range(RANDOMIZE_STEPS), desc='Randomizing'):\n",
    "    state = do_action(state, rng.choice(available_actions(state)))\n",
    "state"
   ]
  },
  {
   "cell_type": "markdown",
   "metadata": {},
   "source": [
    "Evaluation: let's evaluate how does the algorithms work"
   ]
  },
  {
   "cell_type": "code",
   "execution_count": 12,
   "metadata": {},
   "outputs": [
    {
     "name": "stderr",
     "output_type": "stream",
     "text": [
      "ic| actions: ['U', 'D', 'R']\n"
     ]
    },
    {
     "name": "stdout",
     "output_type": "stream",
     "text": [
      "[[14  2 11  1]\n",
      " [ 3  8 10  9]\n",
      " [ 0  7  5  4]\n",
      " [13  6 12 15]]\n"
     ]
    }
   ],
   "source": [
    "actions = available_actions(state)\n",
    "hprintmat(state)\n",
    "ic(actions)\n",
    "for action in actions:\n",
    "    new_state = do_action(state, action,print=True)"
   ]
  },
  {
   "cell_type": "markdown",
   "metadata": {},
   "source": [
    "## BFS Algorithm\n",
    "\n",
    "Let's try to implement a simple BFS algorithm using a simple "
   ]
  },
  {
   "cell_type": "code",
   "execution_count": null,
   "metadata": {},
   "outputs": [],
   "source": [
    "from collections import deque\n",
    "\n",
    "# Create an empty deque\n",
    "frontier = deque()\n",
    "visited = set()\n",
    "\n",
    "# Add the initial state to the frontier\n",
    "frontier.append(state)\n"
   ]
  },
  {
   "cell_type": "code",
   "execution_count": null,
   "metadata": {},
   "outputs": [],
   "source": [
    "cycle=0\n",
    "while frontier:\n",
    "    current_state = frontier.popleft()\n",
    "    visited.add(tuple(current_state.flatten())) # avoid using np.array as keys in a set\n",
    "    if np.array_equal(current_state, np.array([[1, 2, 3, 4], [5, 6, 7, 8], [9, 10, 11, 12], [13, 14, 15, 0]])):\n",
    "        print(\"Solved!\")\n",
    "        break\n",
    "    actions = available_actions(current_state)\n",
    "    for action in actions:\n",
    "        new_state = do_action(current_state, action)\n",
    "        if tuple(new_state.flatten()) not in visited:\n",
    "            frontier.append(new_state)\n",
    "    if cycle % 1000 == 0:\n",
    "        print(current_state)\n"
   ]
  }
 ],
 "metadata": {
  "kernelspec": {
   "display_name": ".venv",
   "language": "python",
   "name": "python3"
  },
  "language_info": {
   "codemirror_mode": {
    "name": "ipython",
    "version": 3
   },
   "file_extension": ".py",
   "mimetype": "text/x-python",
   "name": "python",
   "nbconvert_exporter": "python",
   "pygments_lexer": "ipython3",
   "version": "3.12.4"
  }
 },
 "nbformat": 4,
 "nbformat_minor": 2
}
